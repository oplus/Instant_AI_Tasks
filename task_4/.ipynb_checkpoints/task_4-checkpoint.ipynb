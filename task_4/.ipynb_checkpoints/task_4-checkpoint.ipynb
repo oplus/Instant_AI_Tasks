{
 "cells": [
  {
   "cell_type": "markdown",
   "id": "d6b7c4a5",
   "metadata": {},
   "source": [
    "## 1. How to sort dictionary by keys"
   ]
  },
  {
   "cell_type": "code",
   "execution_count": 6,
   "id": "c4cd956f",
   "metadata": {},
   "outputs": [
    {
     "name": "stdout",
     "output_type": "stream",
     "text": [
      "{'age': 30, 'bloodtype': 'O+', 'gender': 'male', 'name': 'Abdalla'}\n"
     ]
    }
   ],
   "source": [
    "a = {\"name\": \"Abdalla\", \"age\": 30, \"bloodtype\": \"O+\", 'gender': 'male'}\n",
    "\n",
    "b = {item : a[item] for item in sorted(a)}\n",
    "\n",
    "print(b)"
   ]
  },
  {
   "cell_type": "markdown",
   "id": "0d5606bf",
   "metadata": {},
   "source": [
    "## 2.Compare between Adjacency Matrix/List"
   ]
  },
  {
   "cell_type": "markdown",
   "id": "c89b4f06",
   "metadata": {},
   "source": [
    "| | Adjacency Matrix | Adjacency List |\n",
    "|:------|:------|:-------|\n",
    "| <strong>Definition</strong>    | In the adjacency matrix representation, a graph is represented in the form of a two-dimensional array. The size of the array is V x V, where V is the set of vertices.     | In the adjacency list representation, a graph is represented as an array of linked list. The index of the array represents a vertex and each element in its linked list represents the vertices that form an edge with the vertex.     |\n",
    "| <strong>Space</strong>    | Make use of VxV matrix so in worst case O(\\|V\\|$^{2}$)     | We store every vertex V and its adjacent neighbours E so worst case is O(\\|V\\|+\\|E\\|)    |\n",
    "| <strong>Adding a vertex</strong>    | In order to add a new vertex to VxV matrix the storage must be increases to (\\|V\\|+1)$^{2}$. To achieve this we need to copy the whole matrix. Therefore the complexity is O(\\|V\\|2)    | There are two pointers in adjacency list first points to the front node and the other one points to the rear node.Thus insertion of a vertex can be done directly in O(1) time.    |\n",
    "| <strong>Removing a vertex</strong>    | In order to remove a vertex from V*V matrix the storage must be decreased to \\|V\\|$^{2}$  from (\\|V\\|+1)$^{2}$. To achieve this we need to copy the whole matrix. Therefore the complexity is O(\\|V\\|$^{2}$).      | In order to remove a vertex, we need to search for the vertex which will require O(\\|V\\|) time in worst case, after this we need to traverse the edges and in worst case it will require O(\\|E\\|) time.Hence, total time complexity is O(\\|V\\|+\\|E\\|). |\n",
    "| <strong>Removing a edge</strong>    | To remove an edge say from i to j, matrix[i][j] = 0 which requires O(1) time.    | To remove an edge traversing through the edges is required and in worst case we need to traverse through all the edges.Thus, the time complexity is O(\\|E\\|). |\n",
    "| <strong>Querying</strong>    | In order to find for an existing edge  the content of matrix needs to be checked. Given two vertices say i and j matrix[i][j] can be checked in O(1) time.    | In an adjacency list every vertex is associated with a list of adjacent vertices. For a given graph, in order to check for an edge we need to check for vertices adjacent to given vertex. A vertex can have at most O(\\|V\\|) neighbours and in worst can we would have to check for every adjacent vertex. Therefore, time complexity is O(\\|V\\|) . |\n",
    "\n",
    "\n",
    "<strong><i>Conclusion:</i></strong> Adjacency matrix is fast to lookup and check for specific edges between nodes and it is also fast in adding new edges.However, it consumes more memory and will be slow in iteration over all edges and in adding/removing nodes. While adjacency list consumes less memory and is fast to iterate over all edges and add new edges, it is slow in finding specific edges between nodes and slow to add/delete a node."
   ]
  },
  {
   "cell_type": "markdown",
   "id": "7a090b63",
   "metadata": {},
   "source": [
    "## 3.How does DFS and BFS work"
   ]
  },
  {
   "cell_type": "markdown",
   "id": "dc96b234",
   "metadata": {},
   "source": [
    "| Breadth First Search | Depth First Search   |\n",
    "|:------|:------|\n",
    "|   \tBFS is a traversal approach in which we first walk through all nodes on the same level before moving on to the next level.    | \t\tBFS is a traversal approach in which we first walk through all nodes on the same level before moving on to the next level.  | \n",
    "|   It uses a queue to keep track of the next location to visit.| It uses a stack to keep track of the next location to visit.| \n",
    "|   BFS traverses according to tree level.| DFS traverses according to tree depth.| \n",
    "|   It is implemented using FIFO list.| It is implemented using LIFO list.|\n",
    "|   It requires more memory as compare to DFS.| It requires less memory as compare to BFS.| \n",
    "|   BFS is better when target is closer to Source.| \tDFS is better when target is far from source.| \n",
    "|   This algorithm gives the shallowest path solution.| This algorithm doesn’t guarantee the shallowest path solution.| \n",
    "|   There is no need of backtracking in BFS.| There is a need of backtracking in DFS.| "
   ]
  },
  {
   "cell_type": "markdown",
   "id": "9ee1404b",
   "metadata": {},
   "source": [
    "## 4.Create your own library and use it"
   ]
  },
  {
   "cell_type": "code",
   "execution_count": 5,
   "id": "3f6023f1",
   "metadata": {},
   "outputs": [],
   "source": [
    "###emailer: a liberary that send emails (including html sending capability)\n",
    "###USAGE:\n",
    "from emailer import emailer\n",
    "import os.path\n",
    "\n",
    "html_file = 'index.html'\n",
    "\n",
    "if os.path.exists(html_file):\n",
    "    with open(html_file, 'r') as file:\n",
    "        html = file.read()\n",
    "    plain = \"Hello World\"\n",
    "    subject = \"Hi, this is the email subject\"\n",
    "    newMail = emailer(html = html, plain = plain, subject = subject)\n",
    "    newMail.sendEmail(\n",
    "    sender = \"senderEmail@gmail.com\",\n",
    "    password = \"senderPassword\",\n",
    "    receiver = \"receiverEmail@gmail.com\"\n",
    "    )"
   ]
  },
  {
   "cell_type": "markdown",
   "id": "e6df2f43",
   "metadata": {},
   "source": [
    "## 5.Create a function receives stack elements as inputs from user while not equal to zero"
   ]
  },
  {
   "cell_type": "code",
   "execution_count": null,
   "id": "9870a0b4",
   "metadata": {},
   "outputs": [],
   "source": [
    "from queue import LifoQueue\n",
    " \n",
    "# Initializing a stack\n",
    "\n",
    " \n",
    "def add_to_stack(stack):\n",
    "  element = input(\"Enter the element you want to add to the stack: \")\n",
    "  if element != 0:\n",
    "    stack.put(element)\n",
    "\n",
    "stack = LifoQueue(maxsize=20)\n",
    "add_to_stack(stack)\n",
    "add_to_stack(stack)\n",
    "for element in range(stack.qsize()):\n",
    "  print(stack.get())"
   ]
  },
  {
   "cell_type": "markdown",
   "id": "1643d83f",
   "metadata": {},
   "source": [
    "## 6.Implement Unordered/Multi set in Python"
   ]
  },
  {
   "cell_type": "code",
   "execution_count": 7,
   "id": "155939ec",
   "metadata": {},
   "outputs": [],
   "source": [
    "class Multiset:\n",
    "\n",
    "    def __init__(self):\n",
    "        self.l = []\n",
    "\n",
    "    def add(self, val):\n",
    "        # adds one occurrence of val from the multiset, if any\n",
    "        pass        #('pass' is a nothing operation. When it execute, nothing happens.)\n",
    "        return self.l.append(val)\n",
    "\n",
    "    def remove(self, val):\n",
    "        # removes one occurrence of val from the multiset, if any\n",
    "        pass\n",
    "        if val in self.l:\n",
    "            return  self.l.remove(val)\n",
    "    \n",
    "    def __contains__(self, val):\n",
    "        # returns True when val is in the multiset, else returns False\n",
    "        if val in self.l:\n",
    "            return True\n",
    "        else:\n",
    "            return False\n",
    "\n",
    "    def __len__(self):\n",
    "        # returns the number of elements in the multiset\n",
    "        return len(self.l)\n",
    "if __name__ == '__main__':\n",
    "    pass"
   ]
  }
 ],
 "metadata": {
  "kernelspec": {
   "display_name": "Python 3 (ipykernel)",
   "language": "python",
   "name": "python3"
  },
  "language_info": {
   "codemirror_mode": {
    "name": "ipython",
    "version": 3
   },
   "file_extension": ".py",
   "mimetype": "text/x-python",
   "name": "python",
   "nbconvert_exporter": "python",
   "pygments_lexer": "ipython3",
   "version": "3.10.1"
  }
 },
 "nbformat": 4,
 "nbformat_minor": 5
}
